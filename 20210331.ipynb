{
  "nbformat": 4,
  "nbformat_minor": 0,
  "metadata": {
    "colab": {
      "name": "20210331.ipynb",
      "provenance": [],
      "authorship_tag": "ABX9TyPhGN3/WjL7cJVZB9QMsiPU",
      "include_colab_link": true
    },
    "kernelspec": {
      "name": "python3",
      "display_name": "Python 3"
    },
    "language_info": {
      "name": "python"
    }
  },
  "cells": [
    {
      "cell_type": "markdown",
      "metadata": {
        "id": "view-in-github",
        "colab_type": "text"
      },
      "source": [
        "<a href=\"https://colab.research.google.com/github/php130/class2021Spring/blob/main/20210331.ipynb\" target=\"_parent\"><img src=\"https://colab.research.google.com/assets/colab-badge.svg\" alt=\"Open In Colab\"/></a>"
      ]
    },
    {
      "cell_type": "markdown",
      "metadata": {
        "id": "bn9EP_11405G"
      },
      "source": [
        "#A\n",
        "pitch : 103.8 Hz\n",
        "intensity : 76.52 dB\n",
        "formant(F1/F2) : 731.1Hz/ 1077Hz\n",
        "duration : 0.336819 sec\n",
        "\n",
        "#E\n",
        "pitch : 106.9 Hz\n",
        "intensity : 75.8 dB\n",
        "formant(F1/F2) : 495Hz/ 1928Hz\n",
        "duration : 0.312594 sec"
      ]
    }
  ]
}