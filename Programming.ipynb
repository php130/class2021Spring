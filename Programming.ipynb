{
  "nbformat": 4,
  "nbformat_minor": 0,
  "metadata": {
    "colab": {
      "name": "Programming.ipynb",
      "provenance": [],
      "authorship_tag": "ABX9TyNhMcWGg/Cbqj00aWdklw2B",
      "include_colab_link": true
    },
    "kernelspec": {
      "name": "python3",
      "display_name": "Python 3"
    }
  },
  "cells": [
    {
      "cell_type": "markdown",
      "metadata": {
        "id": "view-in-github",
        "colab_type": "text"
      },
      "source": [
        "<a href=\"https://colab.research.google.com/github/php130/class2021Spring/blob/main/Programming.ipynb\" target=\"_parent\"><img src=\"https://colab.research.google.com/assets/colab-badge.svg\" alt=\"Open In Colab\"/></a>"
      ]
    },
    {
      "cell_type": "markdown",
      "metadata": {
        "id": "RWYWDnQspC3u"
      },
      "source": [
        "인간의 언어 : 단어 + 문법\n",
        "사과라는 용어를 통해서 사과의 의미를 가지고 인식한다.\n",
        "\n",
        "#변수\n",
        "인간의 언어는 프로그래밍 언어에서는 '변수'에 해당하는 내용을 입력한다.\n",
        "a = 1 이면 a는 변수이고 1은 내용이다.\n",
        "b = 2\n",
        "c = 'love' 내용은 숫자나 문자 등 입력하는 형식에 따라 다름\n",
        "\n",
        "#문법\n",
        "문법 = 제어문이다\n",
        "1. 반복 : for\n",
        "2. 조건 : if\n",
        "를 통해서 언어의 문법을 형성한다.\n",
        "\n",
        "a = 1\n",
        "if a ==2\n",
        "    print(3)\n",
        "이라고 한다면 (3)은 프린트 되지 않는다, if구문을 넘기지 못하기 때문이다\n",
        "\n",
        "#함수\n",
        "함수는 입력을 변화시켜 출력시켜주는 역할을 한다. y = f(x) 에서 f가 함수인 것. y = ax + b 라면 이것도 x라는 입력을 통해 y를 출력하는 함수이다.\n",
        "입력을 받으면 출력을 내는 인간의 몸과 같다.\n",
        "예로,\n",
        "function add(a,b)\n",
        "라는 함수를 만든다면\n",
        "add(2, 5) 를 실행시키면\n",
        "a와 b에는 2, 5 상수가 들어온 것이다.\n",
        "c = a + b를 실행한다면 7이 나오는 것이다.\n",
        "함수를 복잡하게 한다면 무궁무진하게 활용할 수 있다.\n"
      ]
    },
    {
      "cell_type": "code",
      "metadata": {
        "id": "bgbaygPRpFty"
      },
      "source": [
        ""
      ],
      "execution_count": null,
      "outputs": []
    },
    {
      "cell_type": "code",
      "metadata": {
        "id": "0YZmnuNEpFrN"
      },
      "source": [
        ""
      ],
      "execution_count": null,
      "outputs": []
    },
    {
      "cell_type": "markdown",
      "metadata": {
        "id": "cA08nLpBpFX1"
      },
      "source": [
        ""
      ]
    },
    {
      "cell_type": "markdown",
      "metadata": {
        "id": "V4CipBsipFUl"
      },
      "source": [
        ""
      ]
    }
  ]
}